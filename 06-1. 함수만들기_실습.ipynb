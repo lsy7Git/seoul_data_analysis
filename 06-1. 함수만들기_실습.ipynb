{
 "cells": [
  {
   "cell_type": "markdown",
   "id": "00f4d61e",
   "metadata": {},
   "source": [
    "# 함수 정의하고 호출하기"
   ]
  },
  {
   "cell_type": "markdown",
   "id": "6f855638",
   "metadata": {},
   "source": [
    "* 자기소개 함수 정의하고 호출하기   "
   ]
  },
  {
   "cell_type": "code",
   "execution_count": 1,
   "id": "a52d4673",
   "metadata": {
    "scrolled": true
   },
   "outputs": [
    {
     "name": "stdout",
     "output_type": "stream",
     "text": [
      "안녕하세요!\n",
      "저의 이름은 파이썬입니다.\n"
     ]
    }
   ],
   "source": [
    "## 자기소개 ##\n",
    "print('안녕하세요!')\n",
    "print('저의 이름은 파이썬입니다.')"
   ]
  },
  {
   "cell_type": "code",
   "execution_count": 2,
   "id": "f8bd2800",
   "metadata": {
    "scrolled": true
   },
   "outputs": [
    {
     "name": "stdout",
     "output_type": "stream",
     "text": [
      "안녕하세요!\n",
      "저의 이름은 파이썬입니다.\n"
     ]
    }
   ],
   "source": [
    "# 함수 정의\n",
    "def introduce():\n",
    "    print('안녕하세요!')\n",
    "    print('저의 이름은 파이썬입니다.')\n",
    "    \n",
    "# 함수 호출\n",
    "introduce()"
   ]
  },
  {
   "cell_type": "markdown",
   "id": "280fdf18",
   "metadata": {},
   "source": [
    "* 함수 정의를 먼저 한 후 호출하도록 코드를 순차적으로 작성해야 한다."
   ]
  },
  {
   "cell_type": "code",
   "execution_count": 3,
   "id": "83208550",
   "metadata": {},
   "outputs": [
    {
     "ename": "NameError",
     "evalue": "name 'introduce2' is not defined",
     "output_type": "error",
     "traceback": [
      "\u001b[1;31m---------------------------------------------------------------------------\u001b[0m",
      "\u001b[1;31mNameError\u001b[0m                                 Traceback (most recent call last)",
      "\u001b[1;32m~\\AppData\\Local\\Temp/ipykernel_2936/1112739343.py\u001b[0m in \u001b[0;36m<module>\u001b[1;34m\u001b[0m\n\u001b[0;32m      1\u001b[0m \u001b[1;31m# 함수 호출\u001b[0m\u001b[1;33m\u001b[0m\u001b[1;33m\u001b[0m\u001b[0m\n\u001b[1;32m----> 2\u001b[1;33m \u001b[0mintroduce2\u001b[0m\u001b[1;33m(\u001b[0m\u001b[1;33m)\u001b[0m\u001b[1;33m\u001b[0m\u001b[1;33m\u001b[0m\u001b[0m\n\u001b[0m\u001b[0;32m      3\u001b[0m \u001b[1;31m# 함수 정의\u001b[0m\u001b[1;33m\u001b[0m\u001b[1;33m\u001b[0m\u001b[0m\n\u001b[0;32m      4\u001b[0m \u001b[1;32mdef\u001b[0m \u001b[0mintroduce2\u001b[0m\u001b[1;33m(\u001b[0m\u001b[1;33m)\u001b[0m\u001b[1;33m:\u001b[0m\u001b[1;33m\u001b[0m\u001b[1;33m\u001b[0m\u001b[0m\n\u001b[0;32m      5\u001b[0m     \u001b[0mprint\u001b[0m\u001b[1;33m(\u001b[0m\u001b[1;34m'안녕하세요!'\u001b[0m\u001b[1;33m)\u001b[0m\u001b[1;33m\u001b[0m\u001b[1;33m\u001b[0m\u001b[0m\n",
      "\u001b[1;31mNameError\u001b[0m: name 'introduce2' is not defined"
     ]
    }
   ],
   "source": [
    "# 함수 호출\n",
    "introduce2()\n",
    "\n",
    "# 함수 정의 \n",
    "def introduce2():\n",
    "    print('안녕하세요!')\n",
    "    print('저의 이름은 파이썬입니다.')\n",
    "    \n",
    "# 코드는 위에서부터 아래로 순차적으로 실행된다.\n",
    "# 함수를 호출하는 시점에 함수가 정의되어 있지 않으면 에러 발생"
   ]
  },
  {
   "cell_type": "markdown",
   "id": "20d9ed67",
   "metadata": {},
   "source": [
    "# 매개변수 전달하기"
   ]
  },
  {
   "cell_type": "code",
   "execution_count": 4,
   "id": "9750a904",
   "metadata": {},
   "outputs": [
    {
     "name": "stdout",
     "output_type": "stream",
     "text": [
      "안녕하세요!\n",
      "저의 이름은, 홍길동입니다.\n"
     ]
    }
   ],
   "source": [
    "## 자기소개 ##\n",
    "name='홍길동'\n",
    "print('안녕하세요!')\n",
    "print('저의 이름은, '+name+'입니다.')"
   ]
  },
  {
   "cell_type": "markdown",
   "id": "715cbcb9",
   "metadata": {},
   "source": [
    "* 매개변수 1개 전달하기"
   ]
  },
  {
   "cell_type": "code",
   "execution_count": 6,
   "id": "eb609789",
   "metadata": {},
   "outputs": [
    {
     "name": "stdout",
     "output_type": "stream",
     "text": [
      "안녕하세요!\n",
      "저의 이름은, 파이썬입니다.\n",
      "안녕하세요!\n",
      "저의 이름은, 홍길동입니다.\n"
     ]
    }
   ],
   "source": [
    "def introduce(name):\n",
    "    print('안녕하세요!')\n",
    "    print('저의 이름은, '+name+'입니다.')\n",
    "    \n",
    "introduce('파이썬')\n",
    "introduce('홍길동')"
   ]
  },
  {
   "cell_type": "markdown",
   "id": "f9be0261",
   "metadata": {},
   "source": [
    "* 매개변수 여러개 전달하기"
   ]
  },
  {
   "cell_type": "code",
   "execution_count": 7,
   "id": "32d6c5ad",
   "metadata": {},
   "outputs": [
    {
     "name": "stdout",
     "output_type": "stream",
     "text": [
      "안녕하세요!\n",
      "저의 이름은, 파이썬입니다.\n",
      "나이는, 20살입니다.\n"
     ]
    }
   ],
   "source": [
    "## 자기소개 ##\n",
    "name='파이썬'\n",
    "age = 20\n",
    "print('안녕하세요!')\n",
    "print('저의 이름은, '+name+'입니다.')\n",
    "print('나이는, '+str(age)+'살입니다.')"
   ]
  },
  {
   "cell_type": "code",
   "execution_count": 10,
   "id": "57d7b56d",
   "metadata": {},
   "outputs": [
    {
     "name": "stdout",
     "output_type": "stream",
     "text": [
      "안녕하세요!\n",
      "저의 이름은, 파이썬입니다.\n",
      "나이는, 20살입니다.\n",
      "안녕하세요!\n",
      "저의 이름은, 홍길동입니다.\n",
      "나이는, 21살입니다.\n"
     ]
    }
   ],
   "source": [
    "def introduce(name, age):\n",
    "    print('안녕하세요!')\n",
    "    print('저의 이름은, '+name+'입니다.')\n",
    "    print('나이는, '+str(age)+'살입니다.')\n",
    "    \n",
    "introduce('파이썬',20)\n",
    "introduce('홍길동',21)"
   ]
  },
  {
   "cell_type": "markdown",
   "id": "d01c40f2",
   "metadata": {},
   "source": [
    "# 연습문제\n",
    "* 이름과 나이를 입력받아 생일축하 메시지를 출력하는 함수를 만들고 호출하세요.\n",
    "* 생일문구 : ooo님의 oo번째 생일을 축하합니다!!"
   ]
  },
  {
   "cell_type": "code",
   "execution_count": 11,
   "id": "15896aa2",
   "metadata": {},
   "outputs": [
    {
     "name": "stdout",
     "output_type": "stream",
     "text": [
      "이름:파이썬\n",
      "나이:20\n",
      "파이썬님의 20번째 생일을 축하합니다.\n"
     ]
    }
   ],
   "source": [
    "name = input('이름:')\n",
    "age = input('나이:')\n",
    "\n",
    "def happybirthday(name, age):\n",
    "    print(f'{name}님의 {age}번째 생일을 축하합니다.')\n",
    "    \n",
    "happybirthday(name,age)\n"
   ]
  }
 ],
 "metadata": {
  "kernelspec": {
   "display_name": "Python 3 (ipykernel)",
   "language": "python",
   "name": "python3"
  },
  "language_info": {
   "codemirror_mode": {
    "name": "ipython",
    "version": 3
   },
   "file_extension": ".py",
   "mimetype": "text/x-python",
   "name": "python",
   "nbconvert_exporter": "python",
   "pygments_lexer": "ipython3",
   "version": "3.9.7"
  },
  "toc": {
   "base_numbering": 1,
   "nav_menu": {},
   "number_sections": true,
   "sideBar": true,
   "skip_h1_title": false,
   "title_cell": "Table of Contents",
   "title_sidebar": "Contents",
   "toc_cell": false,
   "toc_position": {
    "height": "calc(100% - 180px)",
    "left": "10px",
    "top": "150px",
    "width": "338.225px"
   },
   "toc_section_display": true,
   "toc_window_display": true
  }
 },
 "nbformat": 4,
 "nbformat_minor": 5
}
