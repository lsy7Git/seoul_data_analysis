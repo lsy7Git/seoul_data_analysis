{
 "cells": [
  {
   "cell_type": "markdown",
   "id": "6f6dad3e",
   "metadata": {},
   "source": [
    "# 전역변수\n",
    "* 함수 밖에서 생성된 변수\n",
    "* 함수 내에서도 사용할 수 있다."
   ]
  },
  {
   "cell_type": "code",
   "execution_count": 1,
   "id": "8f39e6d3",
   "metadata": {
    "scrolled": true
   },
   "outputs": [
    {
     "name": "stdout",
     "output_type": "stream",
     "text": [
      "hello\n"
     ]
    }
   ],
   "source": [
    "say1 = 'hello'\n",
    "\n",
    "def sayhello():\n",
    "    print(say1)\n",
    "    \n",
    "sayhello()\n"
   ]
  },
  {
   "cell_type": "markdown",
   "id": "9a60b85b",
   "metadata": {},
   "source": [
    "# 지역변수\n",
    "* 함수 내에서 생성된 변수\n",
    "* 함수 내에서만 사용할 수 있다."
   ]
  },
  {
   "cell_type": "code",
   "execution_count": 4,
   "id": "fa1ecdb7",
   "metadata": {},
   "outputs": [
    {
     "name": "stdout",
     "output_type": "stream",
     "text": [
      "goodbye\n"
     ]
    },
    {
     "ename": "NameError",
     "evalue": "name 'say2' is not defined",
     "output_type": "error",
     "traceback": [
      "\u001b[1;31m---------------------------------------------------------------------------\u001b[0m",
      "\u001b[1;31mNameError\u001b[0m                                 Traceback (most recent call last)",
      "\u001b[1;32m~\\AppData\\Local\\Temp/ipykernel_4500/2401630030.py\u001b[0m in \u001b[0;36m<module>\u001b[1;34m\u001b[0m\n\u001b[0;32m      4\u001b[0m \u001b[1;33m\u001b[0m\u001b[0m\n\u001b[0;32m      5\u001b[0m \u001b[0msaygoodbye\u001b[0m\u001b[1;33m(\u001b[0m\u001b[1;33m)\u001b[0m\u001b[1;33m\u001b[0m\u001b[1;33m\u001b[0m\u001b[0m\n\u001b[1;32m----> 6\u001b[1;33m \u001b[0mprint\u001b[0m\u001b[1;33m(\u001b[0m\u001b[0msay2\u001b[0m\u001b[1;33m)\u001b[0m\u001b[1;33m\u001b[0m\u001b[1;33m\u001b[0m\u001b[0m\n\u001b[0m",
      "\u001b[1;31mNameError\u001b[0m: name 'say2' is not defined"
     ]
    }
   ],
   "source": [
    "def saygoodbye():\n",
    "    say2 = 'goodbye' #지역변수\n",
    "    print(say2)\n",
    "    \n",
    "saygoodbye()\n",
    "print(say2)\n"
   ]
  },
  {
   "cell_type": "markdown",
   "id": "32b5db07",
   "metadata": {},
   "source": [
    "# 함수 안에서 전역변수 값 변경하기"
   ]
  },
  {
   "cell_type": "markdown",
   "id": "6a4ef1c0",
   "metadata": {},
   "source": [
    "* 함수 내에서 전역변수 값을 변경하려면 'global' 키워드를 함께 사용하여야 한다.\n",
    "* global을 사용하지 않으면 동일한 이름의 지역변수가 생성되어 사용된다."
   ]
  },
  {
   "cell_type": "code",
   "execution_count": 6,
   "id": "ee65da70",
   "metadata": {},
   "outputs": [
    {
     "data": {
      "text/plain": [
       "1"
      ]
     },
     "execution_count": 6,
     "metadata": {},
     "output_type": "execute_result"
    }
   ],
   "source": [
    "n1 = 1\n",
    "n2 = 10\n",
    "\n",
    "def get_plus_minus():\n",
    "    n1 = 2\n",
    "    plus = n1 + n2\n",
    "    minus = n1 - n2\n",
    "    return plus, minus\n",
    "\n",
    "get_plus_minus()\n",
    "n1\n"
   ]
  },
  {
   "cell_type": "code",
   "execution_count": 7,
   "id": "56eb4342",
   "metadata": {},
   "outputs": [
    {
     "data": {
      "text/plain": [
       "2"
      ]
     },
     "execution_count": 7,
     "metadata": {},
     "output_type": "execute_result"
    }
   ],
   "source": [
    "n1 = 1\n",
    "n2 = 10\n",
    "\n",
    "def get_plus_minus():\n",
    "    global n1\n",
    "    n1 = 2\n",
    "    plus = n1 + n2\n",
    "    minus = n1 - n2\n",
    "    return plus, minus\n",
    "\n",
    "get_plus_minus()\n",
    "n1"
   ]
  }
 ],
 "metadata": {
  "kernelspec": {
   "display_name": "Python 3 (ipykernel)",
   "language": "python",
   "name": "python3"
  },
  "language_info": {
   "codemirror_mode": {
    "name": "ipython",
    "version": 3
   },
   "file_extension": ".py",
   "mimetype": "text/x-python",
   "name": "python",
   "nbconvert_exporter": "python",
   "pygments_lexer": "ipython3",
   "version": "3.9.7"
  },
  "toc": {
   "base_numbering": 1,
   "nav_menu": {},
   "number_sections": true,
   "sideBar": true,
   "skip_h1_title": false,
   "title_cell": "Table of Contents",
   "title_sidebar": "Contents",
   "toc_cell": false,
   "toc_position": {},
   "toc_section_display": true,
   "toc_window_display": true
  }
 },
 "nbformat": 4,
 "nbformat_minor": 5
}
