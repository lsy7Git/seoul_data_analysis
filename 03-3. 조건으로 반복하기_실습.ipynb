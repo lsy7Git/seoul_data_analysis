{
 "cells": [
  {
   "cell_type": "markdown",
   "id": "ebc62985",
   "metadata": {},
   "source": [
    "# for문과 while문"
   ]
  },
  {
   "cell_type": "markdown",
   "id": "b73ed259",
   "metadata": {},
   "source": [
    "## 1부터 5까지 출력하기"
   ]
  },
  {
   "cell_type": "markdown",
   "id": "cdbf31c2",
   "metadata": {},
   "source": [
    "* for문"
   ]
  },
  {
   "cell_type": "code",
   "execution_count": 2,
   "id": "9d74d031",
   "metadata": {},
   "outputs": [
    {
     "name": "stdout",
     "output_type": "stream",
     "text": [
      "1\n",
      "2\n",
      "3\n",
      "4\n",
      "5\n"
     ]
    }
   ],
   "source": [
    "for i in range(1,6):\n",
    "    print(i)"
   ]
  },
  {
   "cell_type": "markdown",
   "id": "fefa6ca2",
   "metadata": {},
   "source": [
    "* while문"
   ]
  },
  {
   "cell_type": "code",
   "execution_count": 5,
   "id": "5d5739a5",
   "metadata": {},
   "outputs": [
    {
     "name": "stdout",
     "output_type": "stream",
     "text": [
      "1\n",
      "2\n",
      "3\n",
      "4\n",
      "5\n"
     ]
    }
   ],
   "source": [
    "i = 1\n",
    "while i <= 5:\n",
    "    print(i)\n",
    "    i += 1"
   ]
  },
  {
   "cell_type": "markdown",
   "id": "0c4fccac",
   "metadata": {},
   "source": [
    "## 1부터 10까지 더하기"
   ]
  },
  {
   "cell_type": "markdown",
   "id": "2c80c6f4",
   "metadata": {},
   "source": [
    "* for문"
   ]
  },
  {
   "cell_type": "code",
   "execution_count": 6,
   "id": "cb20d64f",
   "metadata": {},
   "outputs": [
    {
     "name": "stdout",
     "output_type": "stream",
     "text": [
      "55\n"
     ]
    }
   ],
   "source": [
    "total = 0\n",
    "for i in range(1,11):\n",
    "    total += i\n",
    "print(total)"
   ]
  },
  {
   "cell_type": "markdown",
   "id": "3737a6f1",
   "metadata": {},
   "source": [
    "* while문"
   ]
  },
  {
   "cell_type": "code",
   "execution_count": 7,
   "id": "c09661fe",
   "metadata": {},
   "outputs": [
    {
     "name": "stdout",
     "output_type": "stream",
     "text": [
      "55\n"
     ]
    }
   ],
   "source": [
    "n = 1\n",
    "total = 0\n",
    "while n <= 10:\n",
    "    total += n\n",
    "    n += 1\n",
    "print(total)"
   ]
  },
  {
   "cell_type": "markdown",
   "id": "f4b515f7",
   "metadata": {},
   "source": [
    "# while문만 가능한 경우"
   ]
  },
  {
   "cell_type": "markdown",
   "id": "5b1afd79",
   "metadata": {},
   "source": [
    "* 'q'를 입력할 때까지 반복하여 이름 입력받기"
   ]
  },
  {
   "cell_type": "code",
   "execution_count": 8,
   "id": "46b19084",
   "metadata": {},
   "outputs": [
    {
     "name": "stdout",
     "output_type": "stream",
     "text": [
      "이름:a\n",
      "이름:b\n",
      "이름:c\n",
      "이름:d\n",
      "이름:q\n"
     ]
    }
   ],
   "source": [
    "name = input('이름:')\n",
    "while name != 'q':\n",
    "    name = input('이름:')"
   ]
  },
  {
   "cell_type": "markdown",
   "id": "8ae447b0",
   "metadata": {},
   "source": [
    "* break로 반복문 빠져나오기"
   ]
  },
  {
   "cell_type": "code",
   "execution_count": 9,
   "id": "d7afcca3",
   "metadata": {},
   "outputs": [
    {
     "name": "stdout",
     "output_type": "stream",
     "text": [
      "이름:a\n",
      "이름:b\n",
      "이름:c\n",
      "이름:d\n",
      "이름:q\n"
     ]
    }
   ],
   "source": [
    "while True:\n",
    "    name = input('이름:')\n",
    "    if name == 'q':\n",
    "        break"
   ]
  },
  {
   "cell_type": "markdown",
   "id": "799d2e01",
   "metadata": {},
   "source": [
    "# 연습문제"
   ]
  },
  {
   "cell_type": "markdown",
   "id": "9e484f74",
   "metadata": {},
   "source": [
    "* 올바른 아이디/비밀번호를 입력할 때까지 아이디와 비밀번호를 입력하는 프로그램 만들기"
   ]
  },
  {
   "cell_type": "code",
   "execution_count": 10,
   "id": "30325db1",
   "metadata": {
    "scrolled": true
   },
   "outputs": [
    {
     "name": "stdout",
     "output_type": "stream",
     "text": [
      "id:id123\n",
      "pwd123\n",
      "id:id123\n",
      "pwdpwd123\n"
     ]
    }
   ],
   "source": [
    "# 올바른 아이디와 비밀번호\n",
    "id = 'id123'\n",
    "pwd = 'pwd123'\n",
    "\n",
    "while True:\n",
    "    input_id = input('id:')\n",
    "    input_pwd = input('pwd:')\n",
    "    \n",
    "    if id == input_id and input_pwd == pwd:\n",
    "        break"
   ]
  },
  {
   "cell_type": "markdown",
   "id": "3189770d",
   "metadata": {},
   "source": [
    "* 확장하기     \n",
    "아이디가 잘못되었으면 '아이디를 확인하세요' 출력    \n",
    "비밀번호가 잘못되었으면 '비밀번호를 확인하세요' 출력"
   ]
  },
  {
   "cell_type": "code",
   "execution_count": 11,
   "id": "072b0d7e",
   "metadata": {
    "scrolled": false
   },
   "outputs": [
    {
     "name": "stdout",
     "output_type": "stream",
     "text": [
      "id:id123\n",
      "pwd:asdfg\n",
      "비밀번호를 확인하세요.\n",
      "id:adfd\n",
      "pwd:asdf\n",
      "아이디를 확인하세요.\n",
      "비밀번호를 확인하세요.\n",
      "id:id123\n",
      "pwd:pwd123\n"
     ]
    }
   ],
   "source": [
    "# 올바른 아이디와 비밀번호\n",
    "id = 'id123'\n",
    "pwd = 'pwd123'\n",
    "\n",
    "while True:\n",
    "    input_id = input('id:')\n",
    "    input_pwd = input('pwd:')\n",
    "    \n",
    "    if id == input_id and input_pwd == pwd:\n",
    "        break\n",
    "    if id != input_id:\n",
    "        print('아이디를 확인하세요.')\n",
    "    if pwd != input_pwd:\n",
    "        print('비밀번호를 확인하세요.')"
   ]
  },
  {
   "cell_type": "markdown",
   "id": "ceb76323",
   "metadata": {},
   "source": [
    "* 사용자가 0을 입력할 때까지 숫자을 입력받아 입력받은 숫자들의 합을 구하는 프로그램을 작성하세요"
   ]
  },
  {
   "cell_type": "code",
   "execution_count": 12,
   "id": "9897283c",
   "metadata": {
    "scrolled": true
   },
   "outputs": [
    {
     "name": "stdout",
     "output_type": "stream",
     "text": [
      "숫자:1\n",
      "숫자:2\n",
      "숫자:3\n",
      "숫자:0\n"
     ]
    }
   ],
   "source": [
    "total = 0\n",
    "\n",
    "while True:\n",
    "    num = int(input('숫자:'))\n",
    "    if num == 0:\n",
    "        break\n",
    "    total += num"
   ]
  },
  {
   "cell_type": "code",
   "execution_count": 13,
   "id": "2e92217a",
   "metadata": {},
   "outputs": [
    {
     "name": "stdout",
     "output_type": "stream",
     "text": [
      "6\n"
     ]
    }
   ],
   "source": [
    "print(total)"
   ]
  }
 ],
 "metadata": {
  "kernelspec": {
   "display_name": "Python 3 (ipykernel)",
   "language": "python",
   "name": "python3"
  },
  "language_info": {
   "codemirror_mode": {
    "name": "ipython",
    "version": 3
   },
   "file_extension": ".py",
   "mimetype": "text/x-python",
   "name": "python",
   "nbconvert_exporter": "python",
   "pygments_lexer": "ipython3",
   "version": "3.9.7"
  },
  "toc": {
   "base_numbering": 1,
   "nav_menu": {},
   "number_sections": true,
   "sideBar": true,
   "skip_h1_title": false,
   "title_cell": "Table of Contents",
   "title_sidebar": "Contents",
   "toc_cell": false,
   "toc_position": {
    "height": "calc(100% - 180px)",
    "left": "10px",
    "top": "150px",
    "width": "257.225px"
   },
   "toc_section_display": true,
   "toc_window_display": true
  }
 },
 "nbformat": 4,
 "nbformat_minor": 5
}
