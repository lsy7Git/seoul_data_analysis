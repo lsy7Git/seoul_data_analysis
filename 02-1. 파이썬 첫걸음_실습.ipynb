{
 "cells": [
  {
   "cell_type": "markdown",
   "id": "a278e818",
   "metadata": {},
   "source": [
    "## 출력하기"
   ]
  },
  {
   "cell_type": "markdown",
   "id": "befd3e4c",
   "metadata": {},
   "source": [
    "## 기본 출력\n",
    "* print(value1, value2, ..., )"
   ]
  },
  {
   "cell_type": "code",
   "execution_count": null,
   "id": "28b939a6",
   "metadata": {
    "scrolled": false
   },
   "outputs": [],
   "source": [
    "# hello 출력하기"
   ]
  },
  {
   "cell_type": "code",
   "execution_count": null,
   "id": "1ab54b4c",
   "metadata": {
    "scrolled": true
   },
   "outputs": [],
   "source": [
    "# hello, python "
   ]
  },
  {
   "cell_type": "code",
   "execution_count": null,
   "id": "4d7c345d",
   "metadata": {
    "scrolled": false
   },
   "outputs": [],
   "source": [
    "# 계산식 출력하기 (1+1=2)"
   ]
  },
  {
   "cell_type": "markdown",
   "id": "9b3f18a5",
   "metadata": {},
   "source": [
    "## 구분자 지정\n",
    "* print(value1, value2, ..., sep='구분자')"
   ]
  },
  {
   "cell_type": "code",
   "execution_count": null,
   "id": "f2ea27d7",
   "metadata": {
    "scrolled": true
   },
   "outputs": [],
   "source": [
    "# ,로 구분 (hello,python)"
   ]
  },
  {
   "cell_type": "code",
   "execution_count": null,
   "id": "559d303f",
   "metadata": {},
   "outputs": [],
   "source": [
    "# 공백없이 붙여서 출력 (1+1=2)"
   ]
  },
  {
   "cell_type": "markdown",
   "id": "d10cb4b0",
   "metadata": {},
   "source": [
    "## 끝문자 지정\n",
    "* print(value1, value2, ..., end='끝문자')"
   ]
  },
  {
   "cell_type": "code",
   "execution_count": null,
   "id": "73802f50",
   "metadata": {},
   "outputs": [],
   "source": [
    "# 공백으로 끝내기 (안녕하세요 반갑습니다)"
   ]
  },
  {
   "cell_type": "code",
   "execution_count": null,
   "id": "27b5e0d3",
   "metadata": {
    "scrolled": true
   },
   "outputs": [],
   "source": [
    "# !!로 끝내기(안녕하세요!!반갑습니다!!)"
   ]
  },
  {
   "cell_type": "markdown",
   "id": "5f474d34",
   "metadata": {},
   "source": [
    "## 여러 줄 한번에 출력하기\n",
    "\n",
    "* 홑따옴표 세개(''') 혹은 쌍따옴표 세개(\"\"\")로 묶는다.\n"
   ]
  },
  {
   "cell_type": "code",
   "execution_count": null,
   "id": "9c14c538",
   "metadata": {
    "scrolled": true
   },
   "outputs": [],
   "source": []
  },
  {
   "cell_type": "code",
   "execution_count": null,
   "id": "9ae244f2",
   "metadata": {},
   "outputs": [],
   "source": []
  },
  {
   "cell_type": "code",
   "execution_count": null,
   "id": "7ad41ad9",
   "metadata": {},
   "outputs": [],
   "source": []
  },
  {
   "cell_type": "markdown",
   "id": "aae556a5",
   "metadata": {},
   "source": [
    "# 주석달기\n",
    "* 프로그램에 대한 설명을 적을 때, 코드의 실행을 잠시 막아둘 때 주석을 사용한다.\n",
    "* 파이썬에서는 샵('#') 을 주석 기호로 사용한다."
   ]
  },
  {
   "cell_type": "code",
   "execution_count": null,
   "id": "7e1ae2bb",
   "metadata": {
    "scrolled": true
   },
   "outputs": [],
   "source": [
    "print(1) \n",
    "print(2)  \n",
    "print(3)"
   ]
  },
  {
   "cell_type": "markdown",
   "id": "a23859bb",
   "metadata": {},
   "source": [
    "# 들여쓰기\n",
    "* 파이썬에서는 들여쓰기 자체가 문법입니다.\n",
    "* 파이썬 들여쓰기 방법은 공백2칸, 공백4칸 등 여러가지 방법이 있지만 보통 공백 4칸을 사용합니다."
   ]
  },
  {
   "cell_type": "code",
   "execution_count": null,
   "id": "b0ee5746",
   "metadata": {
    "scrolled": false
   },
   "outputs": [],
   "source": [
    "print('hello1')\n",
    "print('hello2')"
   ]
  },
  {
   "cell_type": "markdown",
   "id": "a865ff27",
   "metadata": {},
   "source": [
    "# 오류 해석하기"
   ]
  },
  {
   "cell_type": "markdown",
   "id": "93954768",
   "metadata": {},
   "source": [
    "## 파이썬에서는 대소문자를 구분한다."
   ]
  },
  {
   "cell_type": "code",
   "execution_count": null,
   "id": "f85d5dce",
   "metadata": {
    "scrolled": false
   },
   "outputs": [],
   "source": [
    "print('hello')"
   ]
  },
  {
   "cell_type": "markdown",
   "id": "042086d2",
   "metadata": {},
   "source": [
    "## 따옴표의 짝이 맞아야 한다."
   ]
  },
  {
   "cell_type": "code",
   "execution_count": null,
   "id": "ebd3fcf4",
   "metadata": {},
   "outputs": [],
   "source": [
    "print('hello')"
   ]
  },
  {
   "cell_type": "markdown",
   "id": "40331128",
   "metadata": {},
   "source": [
    "## 괄호의 짝이 맞아야 한다."
   ]
  },
  {
   "cell_type": "code",
   "execution_count": null,
   "id": "2dbe3b9d",
   "metadata": {
    "scrolled": false
   },
   "outputs": [],
   "source": [
    "print('hello')"
   ]
  },
  {
   "cell_type": "code",
   "execution_count": null,
   "id": "dd7c3cf9",
   "metadata": {},
   "outputs": [],
   "source": []
  }
 ],
 "metadata": {
  "kernelspec": {
   "display_name": "Python 3",
   "language": "python",
   "name": "python3"
  },
  "language_info": {
   "codemirror_mode": {
    "name": "ipython",
    "version": 3
   },
   "file_extension": ".py",
   "mimetype": "text/x-python",
   "name": "python",
   "nbconvert_exporter": "python",
   "pygments_lexer": "ipython3",
   "version": "3.8.8"
  },
  "toc": {
   "base_numbering": 1,
   "nav_menu": {},
   "number_sections": true,
   "sideBar": true,
   "skip_h1_title": false,
   "title_cell": "Table of Contents",
   "title_sidebar": "Contents",
   "toc_cell": false,
   "toc_position": {
    "height": "calc(100% - 180px)",
    "left": "10px",
    "top": "150px",
    "width": "266.075px"
   },
   "toc_section_display": true,
   "toc_window_display": true
  }
 },
 "nbformat": 4,
 "nbformat_minor": 5
}
