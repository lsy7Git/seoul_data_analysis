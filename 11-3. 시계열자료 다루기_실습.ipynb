{
 "cells": [
  {
   "cell_type": "code",
   "execution_count": 1,
   "id": "5103ef61",
   "metadata": {
    "scrolled": true
   },
   "outputs": [
    {
     "data": {
      "text/html": [
       "<div>\n",
       "<style scoped>\n",
       "    .dataframe tbody tr th:only-of-type {\n",
       "        vertical-align: middle;\n",
       "    }\n",
       "\n",
       "    .dataframe tbody tr th {\n",
       "        vertical-align: top;\n",
       "    }\n",
       "\n",
       "    .dataframe thead th {\n",
       "        text-align: right;\n",
       "    }\n",
       "</style>\n",
       "<table border=\"1\" class=\"dataframe\">\n",
       "  <thead>\n",
       "    <tr style=\"text-align: right;\">\n",
       "      <th></th>\n",
       "      <th>이름</th>\n",
       "      <th>주요경력</th>\n",
       "      <th>출생</th>\n",
       "      <th>사망</th>\n",
       "    </tr>\n",
       "  </thead>\n",
       "  <tbody>\n",
       "    <tr>\n",
       "      <th>0</th>\n",
       "      <td>스티븐 호킹</td>\n",
       "      <td>이론 물리학자</td>\n",
       "      <td>1945-01-08</td>\n",
       "      <td>2018-03-14</td>\n",
       "    </tr>\n",
       "    <tr>\n",
       "      <th>1</th>\n",
       "      <td>마이클잭슨</td>\n",
       "      <td>가수</td>\n",
       "      <td>1958-08-29</td>\n",
       "      <td>2009-06-25</td>\n",
       "    </tr>\n",
       "    <tr>\n",
       "      <th>2</th>\n",
       "      <td>스티브잡스</td>\n",
       "      <td>CEO</td>\n",
       "      <td>1955-02-24</td>\n",
       "      <td>2011-10-05</td>\n",
       "    </tr>\n",
       "    <tr>\n",
       "      <th>3</th>\n",
       "      <td>로빈윌리엄스</td>\n",
       "      <td>배우</td>\n",
       "      <td>1951-07-21</td>\n",
       "      <td>2014-08-11</td>\n",
       "    </tr>\n",
       "    <tr>\n",
       "      <th>4</th>\n",
       "      <td>앨빈토플러</td>\n",
       "      <td>미래학자</td>\n",
       "      <td>1928-10-04</td>\n",
       "      <td>2016-06-27</td>\n",
       "    </tr>\n",
       "  </tbody>\n",
       "</table>\n",
       "</div>"
      ],
      "text/plain": [
       "       이름     주요경력          출생          사망\n",
       "0  스티븐 호킹  이론 물리학자  1945-01-08  2018-03-14\n",
       "1   마이클잭슨       가수  1958-08-29  2009-06-25\n",
       "2   스티브잡스      CEO  1955-02-24  2011-10-05\n",
       "3  로빈윌리엄스       배우  1951-07-21  2014-08-11\n",
       "4   앨빈토플러     미래학자  1928-10-04  2016-06-27"
      ]
     },
     "execution_count": 1,
     "metadata": {},
     "output_type": "execute_result"
    }
   ],
   "source": [
    "import pandas as pd\n",
    "df = pd.read_csv('data/birth_die.csv')\n",
    "df\n"
   ]
  },
  {
   "cell_type": "code",
   "execution_count": 2,
   "id": "1167d5f7",
   "metadata": {
    "scrolled": false
   },
   "outputs": [
    {
     "data": {
      "text/plain": [
       "이름      object\n",
       "주요경력    object\n",
       "출생      object\n",
       "사망      object\n",
       "dtype: object"
      ]
     },
     "execution_count": 2,
     "metadata": {},
     "output_type": "execute_result"
    }
   ],
   "source": [
    "df.dtypes\n"
   ]
  },
  {
   "cell_type": "markdown",
   "id": "6be210ab",
   "metadata": {},
   "source": [
    "# 컬럼을 datetime 자료형으로 변경하기\n",
    "* pd.**to_datetime**(컬럼)"
   ]
  },
  {
   "cell_type": "code",
   "execution_count": 3,
   "id": "bfaea2e3",
   "metadata": {
    "scrolled": false
   },
   "outputs": [],
   "source": [
    "# 출생, 사망 컬럼을 datetime 자료형으로 변경하기\n",
    "df['출생'] = pd.to_datetime(df['출생'])\n"
   ]
  },
  {
   "cell_type": "code",
   "execution_count": 4,
   "id": "84603f85",
   "metadata": {
    "scrolled": true
   },
   "outputs": [],
   "source": [
    "df['사망'] = pd.to_datetime(df['사망'])\n"
   ]
  },
  {
   "cell_type": "code",
   "execution_count": 5,
   "id": "2463dea8",
   "metadata": {},
   "outputs": [
    {
     "data": {
      "text/plain": [
       "이름              object\n",
       "주요경력            object\n",
       "출생      datetime64[ns]\n",
       "사망      datetime64[ns]\n",
       "dtype: object"
      ]
     },
     "execution_count": 5,
     "metadata": {},
     "output_type": "execute_result"
    }
   ],
   "source": [
    "df.dtypes\n"
   ]
  },
  {
   "cell_type": "markdown",
   "id": "2c144d58",
   "metadata": {},
   "source": [
    "# 연, 월, 일, 분기 추출하기"
   ]
  },
  {
   "cell_type": "markdown",
   "id": "69bfe922",
   "metadata": {},
   "source": [
    "* 컬럼.dt.year\n",
    "* 컬럼.dt.month\n",
    "* 컬럼.dt.day\n",
    "* 컬럼.dt.quarter"
   ]
  },
  {
   "cell_type": "code",
   "execution_count": 6,
   "id": "12adf36b",
   "metadata": {
    "scrolled": true
   },
   "outputs": [
    {
     "data": {
      "text/plain": [
       "1945"
      ]
     },
     "execution_count": 6,
     "metadata": {},
     "output_type": "execute_result"
    }
   ],
   "source": [
    "# 출생 컬럼 0번 인덱스의 연도\n",
    "df['출생'][0].year\n"
   ]
  },
  {
   "cell_type": "code",
   "execution_count": 7,
   "id": "d48fcf02",
   "metadata": {
    "scrolled": false
   },
   "outputs": [
    {
     "data": {
      "text/plain": [
       "0    1945\n",
       "1    1958\n",
       "2    1955\n",
       "3    1951\n",
       "4    1928\n",
       "Name: 출생, dtype: int64"
      ]
     },
     "execution_count": 7,
     "metadata": {},
     "output_type": "execute_result"
    }
   ],
   "source": [
    "# 출생 컬럼의 연도\n",
    "df['출생'].dt.year\n"
   ]
  },
  {
   "cell_type": "code",
   "execution_count": 8,
   "id": "00b5e8bf",
   "metadata": {
    "scrolled": true
   },
   "outputs": [
    {
     "data": {
      "text/plain": [
       "0     1\n",
       "1     8\n",
       "2     2\n",
       "3     7\n",
       "4    10\n",
       "Name: 출생, dtype: int64"
      ]
     },
     "execution_count": 8,
     "metadata": {},
     "output_type": "execute_result"
    }
   ],
   "source": [
    "df['출생'].dt.month\n"
   ]
  },
  {
   "cell_type": "code",
   "execution_count": 9,
   "id": "08e3d27b",
   "metadata": {},
   "outputs": [
    {
     "data": {
      "text/plain": [
       "0     8\n",
       "1    29\n",
       "2    24\n",
       "3    21\n",
       "4     4\n",
       "Name: 출생, dtype: int64"
      ]
     },
     "execution_count": 9,
     "metadata": {},
     "output_type": "execute_result"
    }
   ],
   "source": [
    "df['출생'].dt.day\n"
   ]
  },
  {
   "cell_type": "code",
   "execution_count": 11,
   "id": "2e9efbb2",
   "metadata": {
    "scrolled": true
   },
   "outputs": [
    {
     "data": {
      "text/html": [
       "<div>\n",
       "<style scoped>\n",
       "    .dataframe tbody tr th:only-of-type {\n",
       "        vertical-align: middle;\n",
       "    }\n",
       "\n",
       "    .dataframe tbody tr th {\n",
       "        vertical-align: top;\n",
       "    }\n",
       "\n",
       "    .dataframe thead th {\n",
       "        text-align: right;\n",
       "    }\n",
       "</style>\n",
       "<table border=\"1\" class=\"dataframe\">\n",
       "  <thead>\n",
       "    <tr style=\"text-align: right;\">\n",
       "      <th></th>\n",
       "      <th>이름</th>\n",
       "      <th>주요경력</th>\n",
       "      <th>출생</th>\n",
       "      <th>사망</th>\n",
       "      <th>분기</th>\n",
       "    </tr>\n",
       "  </thead>\n",
       "  <tbody>\n",
       "    <tr>\n",
       "      <th>0</th>\n",
       "      <td>스티븐 호킹</td>\n",
       "      <td>이론 물리학자</td>\n",
       "      <td>1945-01-08</td>\n",
       "      <td>2018-03-14</td>\n",
       "      <td>1</td>\n",
       "    </tr>\n",
       "    <tr>\n",
       "      <th>1</th>\n",
       "      <td>마이클잭슨</td>\n",
       "      <td>가수</td>\n",
       "      <td>1958-08-29</td>\n",
       "      <td>2009-06-25</td>\n",
       "      <td>3</td>\n",
       "    </tr>\n",
       "    <tr>\n",
       "      <th>2</th>\n",
       "      <td>스티브잡스</td>\n",
       "      <td>CEO</td>\n",
       "      <td>1955-02-24</td>\n",
       "      <td>2011-10-05</td>\n",
       "      <td>1</td>\n",
       "    </tr>\n",
       "    <tr>\n",
       "      <th>3</th>\n",
       "      <td>로빈윌리엄스</td>\n",
       "      <td>배우</td>\n",
       "      <td>1951-07-21</td>\n",
       "      <td>2014-08-11</td>\n",
       "      <td>3</td>\n",
       "    </tr>\n",
       "    <tr>\n",
       "      <th>4</th>\n",
       "      <td>앨빈토플러</td>\n",
       "      <td>미래학자</td>\n",
       "      <td>1928-10-04</td>\n",
       "      <td>2016-06-27</td>\n",
       "      <td>4</td>\n",
       "    </tr>\n",
       "  </tbody>\n",
       "</table>\n",
       "</div>"
      ],
      "text/plain": [
       "       이름     주요경력         출생         사망  분기\n",
       "0  스티븐 호킹  이론 물리학자 1945-01-08 2018-03-14   1\n",
       "1   마이클잭슨       가수 1958-08-29 2009-06-25   3\n",
       "2   스티브잡스      CEO 1955-02-24 2011-10-05   1\n",
       "3  로빈윌리엄스       배우 1951-07-21 2014-08-11   3\n",
       "4   앨빈토플러     미래학자 1928-10-04 2016-06-27   4"
      ]
     },
     "execution_count": 11,
     "metadata": {},
     "output_type": "execute_result"
    }
   ],
   "source": [
    "# 분기 컬럼 만들기\n",
    "df['분기'] = df['출생'].dt.quarter\n",
    "df\n"
   ]
  },
  {
   "cell_type": "markdown",
   "id": "c82f3e0a",
   "metadata": {},
   "source": [
    "# 날짜 계산하기"
   ]
  },
  {
   "cell_type": "code",
   "execution_count": 12,
   "id": "b7cff692",
   "metadata": {},
   "outputs": [
    {
     "data": {
      "text/html": [
       "<div>\n",
       "<style scoped>\n",
       "    .dataframe tbody tr th:only-of-type {\n",
       "        vertical-align: middle;\n",
       "    }\n",
       "\n",
       "    .dataframe tbody tr th {\n",
       "        vertical-align: top;\n",
       "    }\n",
       "\n",
       "    .dataframe thead th {\n",
       "        text-align: right;\n",
       "    }\n",
       "</style>\n",
       "<table border=\"1\" class=\"dataframe\">\n",
       "  <thead>\n",
       "    <tr style=\"text-align: right;\">\n",
       "      <th></th>\n",
       "      <th>이름</th>\n",
       "      <th>주요경력</th>\n",
       "      <th>출생</th>\n",
       "      <th>사망</th>\n",
       "      <th>분기</th>\n",
       "      <th>생존일수</th>\n",
       "    </tr>\n",
       "  </thead>\n",
       "  <tbody>\n",
       "    <tr>\n",
       "      <th>0</th>\n",
       "      <td>스티븐 호킹</td>\n",
       "      <td>이론 물리학자</td>\n",
       "      <td>1945-01-08</td>\n",
       "      <td>2018-03-14</td>\n",
       "      <td>1</td>\n",
       "      <td>26728 days</td>\n",
       "    </tr>\n",
       "    <tr>\n",
       "      <th>1</th>\n",
       "      <td>마이클잭슨</td>\n",
       "      <td>가수</td>\n",
       "      <td>1958-08-29</td>\n",
       "      <td>2009-06-25</td>\n",
       "      <td>3</td>\n",
       "      <td>18563 days</td>\n",
       "    </tr>\n",
       "    <tr>\n",
       "      <th>2</th>\n",
       "      <td>스티브잡스</td>\n",
       "      <td>CEO</td>\n",
       "      <td>1955-02-24</td>\n",
       "      <td>2011-10-05</td>\n",
       "      <td>1</td>\n",
       "      <td>20677 days</td>\n",
       "    </tr>\n",
       "    <tr>\n",
       "      <th>3</th>\n",
       "      <td>로빈윌리엄스</td>\n",
       "      <td>배우</td>\n",
       "      <td>1951-07-21</td>\n",
       "      <td>2014-08-11</td>\n",
       "      <td>3</td>\n",
       "      <td>23032 days</td>\n",
       "    </tr>\n",
       "    <tr>\n",
       "      <th>4</th>\n",
       "      <td>앨빈토플러</td>\n",
       "      <td>미래학자</td>\n",
       "      <td>1928-10-04</td>\n",
       "      <td>2016-06-27</td>\n",
       "      <td>4</td>\n",
       "      <td>32043 days</td>\n",
       "    </tr>\n",
       "  </tbody>\n",
       "</table>\n",
       "</div>"
      ],
      "text/plain": [
       "       이름     주요경력         출생         사망  분기       생존일수\n",
       "0  스티븐 호킹  이론 물리학자 1945-01-08 2018-03-14   1 26728 days\n",
       "1   마이클잭슨       가수 1958-08-29 2009-06-25   3 18563 days\n",
       "2   스티브잡스      CEO 1955-02-24 2011-10-05   1 20677 days\n",
       "3  로빈윌리엄스       배우 1951-07-21 2014-08-11   3 23032 days\n",
       "4   앨빈토플러     미래학자 1928-10-04 2016-06-27   4 32043 days"
      ]
     },
     "execution_count": 12,
     "metadata": {},
     "output_type": "execute_result"
    }
   ],
   "source": [
    "# 생존일수 컬럼 만들기\n",
    "df['생존일수'] = df['사망']-df['출생']\n",
    "df\n"
   ]
  },
  {
   "cell_type": "code",
   "execution_count": 13,
   "id": "fd6cec83",
   "metadata": {
    "scrolled": true
   },
   "outputs": [
    {
     "data": {
      "text/html": [
       "<div>\n",
       "<style scoped>\n",
       "    .dataframe tbody tr th:only-of-type {\n",
       "        vertical-align: middle;\n",
       "    }\n",
       "\n",
       "    .dataframe tbody tr th {\n",
       "        vertical-align: top;\n",
       "    }\n",
       "\n",
       "    .dataframe thead th {\n",
       "        text-align: right;\n",
       "    }\n",
       "</style>\n",
       "<table border=\"1\" class=\"dataframe\">\n",
       "  <thead>\n",
       "    <tr style=\"text-align: right;\">\n",
       "      <th></th>\n",
       "      <th>이름</th>\n",
       "      <th>주요경력</th>\n",
       "      <th>출생</th>\n",
       "      <th>사망</th>\n",
       "      <th>분기</th>\n",
       "      <th>생존일수</th>\n",
       "      <th>생존기간</th>\n",
       "    </tr>\n",
       "  </thead>\n",
       "  <tbody>\n",
       "    <tr>\n",
       "      <th>0</th>\n",
       "      <td>스티븐 호킹</td>\n",
       "      <td>이론 물리학자</td>\n",
       "      <td>1945-01-08</td>\n",
       "      <td>2018-03-14</td>\n",
       "      <td>1</td>\n",
       "      <td>26728 days</td>\n",
       "      <td>73</td>\n",
       "    </tr>\n",
       "    <tr>\n",
       "      <th>1</th>\n",
       "      <td>마이클잭슨</td>\n",
       "      <td>가수</td>\n",
       "      <td>1958-08-29</td>\n",
       "      <td>2009-06-25</td>\n",
       "      <td>3</td>\n",
       "      <td>18563 days</td>\n",
       "      <td>51</td>\n",
       "    </tr>\n",
       "    <tr>\n",
       "      <th>2</th>\n",
       "      <td>스티브잡스</td>\n",
       "      <td>CEO</td>\n",
       "      <td>1955-02-24</td>\n",
       "      <td>2011-10-05</td>\n",
       "      <td>1</td>\n",
       "      <td>20677 days</td>\n",
       "      <td>56</td>\n",
       "    </tr>\n",
       "    <tr>\n",
       "      <th>3</th>\n",
       "      <td>로빈윌리엄스</td>\n",
       "      <td>배우</td>\n",
       "      <td>1951-07-21</td>\n",
       "      <td>2014-08-11</td>\n",
       "      <td>3</td>\n",
       "      <td>23032 days</td>\n",
       "      <td>63</td>\n",
       "    </tr>\n",
       "    <tr>\n",
       "      <th>4</th>\n",
       "      <td>앨빈토플러</td>\n",
       "      <td>미래학자</td>\n",
       "      <td>1928-10-04</td>\n",
       "      <td>2016-06-27</td>\n",
       "      <td>4</td>\n",
       "      <td>32043 days</td>\n",
       "      <td>88</td>\n",
       "    </tr>\n",
       "  </tbody>\n",
       "</table>\n",
       "</div>"
      ],
      "text/plain": [
       "       이름     주요경력         출생         사망  분기       생존일수  생존기간\n",
       "0  스티븐 호킹  이론 물리학자 1945-01-08 2018-03-14   1 26728 days    73\n",
       "1   마이클잭슨       가수 1958-08-29 2009-06-25   3 18563 days    51\n",
       "2   스티브잡스      CEO 1955-02-24 2011-10-05   1 20677 days    56\n",
       "3  로빈윌리엄스       배우 1951-07-21 2014-08-11   3 23032 days    63\n",
       "4   앨빈토플러     미래학자 1928-10-04 2016-06-27   4 32043 days    88"
      ]
     },
     "execution_count": 13,
     "metadata": {},
     "output_type": "execute_result"
    }
   ],
   "source": [
    "# 생존기간 컬럼 만들기\n",
    "df['생존기간'] = df['사망'].dt.year-df['출생'].dt.year\n",
    "df\n"
   ]
  },
  {
   "cell_type": "code",
   "execution_count": null,
   "id": "7674d2c4",
   "metadata": {},
   "outputs": [],
   "source": []
  },
  {
   "cell_type": "markdown",
   "id": "fc37fb40",
   "metadata": {},
   "source": [
    "# 요일, 월이름 추출하기\n",
    "* 컬럼.dt.strftime('%a') : 요약된 요일이름\n",
    "* 컬럼.dt.strftime('%A') : 긴 요일이름\n",
    "* 컬럼.dt.strftime('%w') : 숫자요일(0:일요일)\n",
    "* 컬럼.dt.strgtime('%b') : 요약된 월이름\n",
    "* 컬럼.dt.strftime('%B') : 긴 월이름\n"
   ]
  },
  {
   "cell_type": "code",
   "execution_count": 16,
   "id": "435d0a7f",
   "metadata": {},
   "outputs": [
    {
     "data": {
      "text/plain": [
       "0    Jan\n",
       "1    Aug\n",
       "2    Feb\n",
       "3    Jul\n",
       "4    Oct\n",
       "Name: 출생, dtype: object"
      ]
     },
     "execution_count": 16,
     "metadata": {},
     "output_type": "execute_result"
    }
   ],
   "source": [
    "df['출생'].dt.strftime('%b')\n"
   ]
  },
  {
   "cell_type": "code",
   "execution_count": 17,
   "id": "3161661d",
   "metadata": {
    "scrolled": true
   },
   "outputs": [
    {
     "data": {
      "text/html": [
       "<div>\n",
       "<style scoped>\n",
       "    .dataframe tbody tr th:only-of-type {\n",
       "        vertical-align: middle;\n",
       "    }\n",
       "\n",
       "    .dataframe tbody tr th {\n",
       "        vertical-align: top;\n",
       "    }\n",
       "\n",
       "    .dataframe thead th {\n",
       "        text-align: right;\n",
       "    }\n",
       "</style>\n",
       "<table border=\"1\" class=\"dataframe\">\n",
       "  <thead>\n",
       "    <tr style=\"text-align: right;\">\n",
       "      <th></th>\n",
       "      <th>이름</th>\n",
       "      <th>주요경력</th>\n",
       "      <th>출생</th>\n",
       "      <th>사망</th>\n",
       "      <th>분기</th>\n",
       "      <th>생존일수</th>\n",
       "      <th>생존기간</th>\n",
       "      <th>출생요일</th>\n",
       "    </tr>\n",
       "  </thead>\n",
       "  <tbody>\n",
       "    <tr>\n",
       "      <th>0</th>\n",
       "      <td>스티븐 호킹</td>\n",
       "      <td>이론 물리학자</td>\n",
       "      <td>1945-01-08</td>\n",
       "      <td>2018-03-14</td>\n",
       "      <td>1</td>\n",
       "      <td>26728 days</td>\n",
       "      <td>73</td>\n",
       "      <td>Mon</td>\n",
       "    </tr>\n",
       "    <tr>\n",
       "      <th>1</th>\n",
       "      <td>마이클잭슨</td>\n",
       "      <td>가수</td>\n",
       "      <td>1958-08-29</td>\n",
       "      <td>2009-06-25</td>\n",
       "      <td>3</td>\n",
       "      <td>18563 days</td>\n",
       "      <td>51</td>\n",
       "      <td>Fri</td>\n",
       "    </tr>\n",
       "    <tr>\n",
       "      <th>2</th>\n",
       "      <td>스티브잡스</td>\n",
       "      <td>CEO</td>\n",
       "      <td>1955-02-24</td>\n",
       "      <td>2011-10-05</td>\n",
       "      <td>1</td>\n",
       "      <td>20677 days</td>\n",
       "      <td>56</td>\n",
       "      <td>Thu</td>\n",
       "    </tr>\n",
       "    <tr>\n",
       "      <th>3</th>\n",
       "      <td>로빈윌리엄스</td>\n",
       "      <td>배우</td>\n",
       "      <td>1951-07-21</td>\n",
       "      <td>2014-08-11</td>\n",
       "      <td>3</td>\n",
       "      <td>23032 days</td>\n",
       "      <td>63</td>\n",
       "      <td>Sat</td>\n",
       "    </tr>\n",
       "    <tr>\n",
       "      <th>4</th>\n",
       "      <td>앨빈토플러</td>\n",
       "      <td>미래학자</td>\n",
       "      <td>1928-10-04</td>\n",
       "      <td>2016-06-27</td>\n",
       "      <td>4</td>\n",
       "      <td>32043 days</td>\n",
       "      <td>88</td>\n",
       "      <td>Thu</td>\n",
       "    </tr>\n",
       "  </tbody>\n",
       "</table>\n",
       "</div>"
      ],
      "text/plain": [
       "       이름     주요경력         출생         사망  분기       생존일수  생존기간 출생요일\n",
       "0  스티븐 호킹  이론 물리학자 1945-01-08 2018-03-14   1 26728 days    73  Mon\n",
       "1   마이클잭슨       가수 1958-08-29 2009-06-25   3 18563 days    51  Fri\n",
       "2   스티브잡스      CEO 1955-02-24 2011-10-05   1 20677 days    56  Thu\n",
       "3  로빈윌리엄스       배우 1951-07-21 2014-08-11   3 23032 days    63  Sat\n",
       "4   앨빈토플러     미래학자 1928-10-04 2016-06-27   4 32043 days    88  Thu"
      ]
     },
     "execution_count": 17,
     "metadata": {},
     "output_type": "execute_result"
    }
   ],
   "source": [
    "# 출생요일 컬럼 \n",
    "df['출생요일'] = df['출생'].dt.strftime('%a')\n",
    "df\n"
   ]
  },
  {
   "cell_type": "code",
   "execution_count": 18,
   "id": "07f6cae4",
   "metadata": {},
   "outputs": [
    {
     "data": {
      "text/html": [
       "<div>\n",
       "<style scoped>\n",
       "    .dataframe tbody tr th:only-of-type {\n",
       "        vertical-align: middle;\n",
       "    }\n",
       "\n",
       "    .dataframe tbody tr th {\n",
       "        vertical-align: top;\n",
       "    }\n",
       "\n",
       "    .dataframe thead th {\n",
       "        text-align: right;\n",
       "    }\n",
       "</style>\n",
       "<table border=\"1\" class=\"dataframe\">\n",
       "  <thead>\n",
       "    <tr style=\"text-align: right;\">\n",
       "      <th></th>\n",
       "      <th>이름</th>\n",
       "      <th>주요경력</th>\n",
       "      <th>출생</th>\n",
       "      <th>사망</th>\n",
       "      <th>분기</th>\n",
       "      <th>생존일수</th>\n",
       "      <th>생존기간</th>\n",
       "      <th>출생요일</th>\n",
       "      <th>출생월</th>\n",
       "    </tr>\n",
       "  </thead>\n",
       "  <tbody>\n",
       "    <tr>\n",
       "      <th>0</th>\n",
       "      <td>스티븐 호킹</td>\n",
       "      <td>이론 물리학자</td>\n",
       "      <td>1945-01-08</td>\n",
       "      <td>2018-03-14</td>\n",
       "      <td>1</td>\n",
       "      <td>26728 days</td>\n",
       "      <td>73</td>\n",
       "      <td>Mon</td>\n",
       "      <td>Jan</td>\n",
       "    </tr>\n",
       "    <tr>\n",
       "      <th>1</th>\n",
       "      <td>마이클잭슨</td>\n",
       "      <td>가수</td>\n",
       "      <td>1958-08-29</td>\n",
       "      <td>2009-06-25</td>\n",
       "      <td>3</td>\n",
       "      <td>18563 days</td>\n",
       "      <td>51</td>\n",
       "      <td>Fri</td>\n",
       "      <td>Aug</td>\n",
       "    </tr>\n",
       "    <tr>\n",
       "      <th>2</th>\n",
       "      <td>스티브잡스</td>\n",
       "      <td>CEO</td>\n",
       "      <td>1955-02-24</td>\n",
       "      <td>2011-10-05</td>\n",
       "      <td>1</td>\n",
       "      <td>20677 days</td>\n",
       "      <td>56</td>\n",
       "      <td>Thu</td>\n",
       "      <td>Feb</td>\n",
       "    </tr>\n",
       "    <tr>\n",
       "      <th>3</th>\n",
       "      <td>로빈윌리엄스</td>\n",
       "      <td>배우</td>\n",
       "      <td>1951-07-21</td>\n",
       "      <td>2014-08-11</td>\n",
       "      <td>3</td>\n",
       "      <td>23032 days</td>\n",
       "      <td>63</td>\n",
       "      <td>Sat</td>\n",
       "      <td>Jul</td>\n",
       "    </tr>\n",
       "    <tr>\n",
       "      <th>4</th>\n",
       "      <td>앨빈토플러</td>\n",
       "      <td>미래학자</td>\n",
       "      <td>1928-10-04</td>\n",
       "      <td>2016-06-27</td>\n",
       "      <td>4</td>\n",
       "      <td>32043 days</td>\n",
       "      <td>88</td>\n",
       "      <td>Thu</td>\n",
       "      <td>Oct</td>\n",
       "    </tr>\n",
       "  </tbody>\n",
       "</table>\n",
       "</div>"
      ],
      "text/plain": [
       "       이름     주요경력         출생         사망  분기       생존일수  생존기간 출생요일  출생월\n",
       "0  스티븐 호킹  이론 물리학자 1945-01-08 2018-03-14   1 26728 days    73  Mon  Jan\n",
       "1   마이클잭슨       가수 1958-08-29 2009-06-25   3 18563 days    51  Fri  Aug\n",
       "2   스티브잡스      CEO 1955-02-24 2011-10-05   1 20677 days    56  Thu  Feb\n",
       "3  로빈윌리엄스       배우 1951-07-21 2014-08-11   3 23032 days    63  Sat  Jul\n",
       "4   앨빈토플러     미래학자 1928-10-04 2016-06-27   4 32043 days    88  Thu  Oct"
      ]
     },
     "execution_count": 18,
     "metadata": {},
     "output_type": "execute_result"
    }
   ],
   "source": [
    "# 출생월 컬럼 추가하기\n",
    "df['출생월'] = df['출생'].dt.strftime('%b')\n",
    "df\n"
   ]
  },
  {
   "cell_type": "markdown",
   "id": "041eabb9",
   "metadata": {},
   "source": [
    "# datetime 자료형을 인덱스로 만들어 사용하기"
   ]
  },
  {
   "cell_type": "code",
   "execution_count": 19,
   "id": "4c538e24",
   "metadata": {
    "scrolled": false
   },
   "outputs": [
    {
     "data": {
      "text/html": [
       "<div>\n",
       "<style scoped>\n",
       "    .dataframe tbody tr th:only-of-type {\n",
       "        vertical-align: middle;\n",
       "    }\n",
       "\n",
       "    .dataframe tbody tr th {\n",
       "        vertical-align: top;\n",
       "    }\n",
       "\n",
       "    .dataframe thead th {\n",
       "        text-align: right;\n",
       "    }\n",
       "</style>\n",
       "<table border=\"1\" class=\"dataframe\">\n",
       "  <thead>\n",
       "    <tr style=\"text-align: right;\">\n",
       "      <th></th>\n",
       "      <th>이름</th>\n",
       "      <th>주요경력</th>\n",
       "      <th>출생</th>\n",
       "      <th>사망</th>\n",
       "      <th>분기</th>\n",
       "      <th>생존일수</th>\n",
       "      <th>생존기간</th>\n",
       "      <th>출생요일</th>\n",
       "      <th>출생월</th>\n",
       "    </tr>\n",
       "    <tr>\n",
       "      <th>출생</th>\n",
       "      <th></th>\n",
       "      <th></th>\n",
       "      <th></th>\n",
       "      <th></th>\n",
       "      <th></th>\n",
       "      <th></th>\n",
       "      <th></th>\n",
       "      <th></th>\n",
       "      <th></th>\n",
       "    </tr>\n",
       "  </thead>\n",
       "  <tbody>\n",
       "    <tr>\n",
       "      <th>1945-01-08</th>\n",
       "      <td>스티븐 호킹</td>\n",
       "      <td>이론 물리학자</td>\n",
       "      <td>1945-01-08</td>\n",
       "      <td>2018-03-14</td>\n",
       "      <td>1</td>\n",
       "      <td>26728 days</td>\n",
       "      <td>73</td>\n",
       "      <td>Mon</td>\n",
       "      <td>Jan</td>\n",
       "    </tr>\n",
       "    <tr>\n",
       "      <th>1958-08-29</th>\n",
       "      <td>마이클잭슨</td>\n",
       "      <td>가수</td>\n",
       "      <td>1958-08-29</td>\n",
       "      <td>2009-06-25</td>\n",
       "      <td>3</td>\n",
       "      <td>18563 days</td>\n",
       "      <td>51</td>\n",
       "      <td>Fri</td>\n",
       "      <td>Aug</td>\n",
       "    </tr>\n",
       "    <tr>\n",
       "      <th>1955-02-24</th>\n",
       "      <td>스티브잡스</td>\n",
       "      <td>CEO</td>\n",
       "      <td>1955-02-24</td>\n",
       "      <td>2011-10-05</td>\n",
       "      <td>1</td>\n",
       "      <td>20677 days</td>\n",
       "      <td>56</td>\n",
       "      <td>Thu</td>\n",
       "      <td>Feb</td>\n",
       "    </tr>\n",
       "    <tr>\n",
       "      <th>1951-07-21</th>\n",
       "      <td>로빈윌리엄스</td>\n",
       "      <td>배우</td>\n",
       "      <td>1951-07-21</td>\n",
       "      <td>2014-08-11</td>\n",
       "      <td>3</td>\n",
       "      <td>23032 days</td>\n",
       "      <td>63</td>\n",
       "      <td>Sat</td>\n",
       "      <td>Jul</td>\n",
       "    </tr>\n",
       "    <tr>\n",
       "      <th>1928-10-04</th>\n",
       "      <td>앨빈토플러</td>\n",
       "      <td>미래학자</td>\n",
       "      <td>1928-10-04</td>\n",
       "      <td>2016-06-27</td>\n",
       "      <td>4</td>\n",
       "      <td>32043 days</td>\n",
       "      <td>88</td>\n",
       "      <td>Thu</td>\n",
       "      <td>Oct</td>\n",
       "    </tr>\n",
       "  </tbody>\n",
       "</table>\n",
       "</div>"
      ],
      "text/plain": [
       "                이름     주요경력         출생         사망  분기       생존일수  생존기간 출생요일  \\\n",
       "출생                                                                            \n",
       "1945-01-08  스티븐 호킹  이론 물리학자 1945-01-08 2018-03-14   1 26728 days    73  Mon   \n",
       "1958-08-29   마이클잭슨       가수 1958-08-29 2009-06-25   3 18563 days    51  Fri   \n",
       "1955-02-24   스티브잡스      CEO 1955-02-24 2011-10-05   1 20677 days    56  Thu   \n",
       "1951-07-21  로빈윌리엄스       배우 1951-07-21 2014-08-11   3 23032 days    63  Sat   \n",
       "1928-10-04   앨빈토플러     미래학자 1928-10-04 2016-06-27   4 32043 days    88  Thu   \n",
       "\n",
       "            출생월  \n",
       "출생               \n",
       "1945-01-08  Jan  \n",
       "1958-08-29  Aug  \n",
       "1955-02-24  Feb  \n",
       "1951-07-21  Jul  \n",
       "1928-10-04  Oct  "
      ]
     },
     "execution_count": 19,
     "metadata": {},
     "output_type": "execute_result"
    }
   ],
   "source": [
    "# 출생 컬럼을 인덱스로 만들기\n",
    "df.index = df['출생']\n",
    "df\n"
   ]
  },
  {
   "cell_type": "code",
   "execution_count": 20,
   "id": "a95917df",
   "metadata": {
    "scrolled": false
   },
   "outputs": [
    {
     "data": {
      "text/html": [
       "<div>\n",
       "<style scoped>\n",
       "    .dataframe tbody tr th:only-of-type {\n",
       "        vertical-align: middle;\n",
       "    }\n",
       "\n",
       "    .dataframe tbody tr th {\n",
       "        vertical-align: top;\n",
       "    }\n",
       "\n",
       "    .dataframe thead th {\n",
       "        text-align: right;\n",
       "    }\n",
       "</style>\n",
       "<table border=\"1\" class=\"dataframe\">\n",
       "  <thead>\n",
       "    <tr style=\"text-align: right;\">\n",
       "      <th></th>\n",
       "      <th>이름</th>\n",
       "      <th>주요경력</th>\n",
       "      <th>출생</th>\n",
       "      <th>사망</th>\n",
       "      <th>분기</th>\n",
       "      <th>생존일수</th>\n",
       "      <th>생존기간</th>\n",
       "      <th>출생요일</th>\n",
       "      <th>출생월</th>\n",
       "    </tr>\n",
       "    <tr>\n",
       "      <th>출생</th>\n",
       "      <th></th>\n",
       "      <th></th>\n",
       "      <th></th>\n",
       "      <th></th>\n",
       "      <th></th>\n",
       "      <th></th>\n",
       "      <th></th>\n",
       "      <th></th>\n",
       "      <th></th>\n",
       "    </tr>\n",
       "  </thead>\n",
       "  <tbody>\n",
       "    <tr>\n",
       "      <th>1955-02-24</th>\n",
       "      <td>스티브잡스</td>\n",
       "      <td>CEO</td>\n",
       "      <td>1955-02-24</td>\n",
       "      <td>2011-10-05</td>\n",
       "      <td>1</td>\n",
       "      <td>20677 days</td>\n",
       "      <td>56</td>\n",
       "      <td>Thu</td>\n",
       "      <td>Feb</td>\n",
       "    </tr>\n",
       "  </tbody>\n",
       "</table>\n",
       "</div>"
      ],
      "text/plain": [
       "               이름 주요경력         출생         사망  분기       생존일수  생존기간 출생요일  출생월\n",
       "출생                                                                         \n",
       "1955-02-24  스티브잡스  CEO 1955-02-24 2011-10-05   1 20677 days    56  Thu  Feb"
      ]
     },
     "execution_count": 20,
     "metadata": {},
     "output_type": "execute_result"
    }
   ],
   "source": [
    "# 1955년 출생한 데이터 추출하기\n",
    "df.loc['1955']\n"
   ]
  },
  {
   "cell_type": "code",
   "execution_count": 21,
   "id": "7e46349e",
   "metadata": {
    "scrolled": true
   },
   "outputs": [
    {
     "data": {
      "text/html": [
       "<div>\n",
       "<style scoped>\n",
       "    .dataframe tbody tr th:only-of-type {\n",
       "        vertical-align: middle;\n",
       "    }\n",
       "\n",
       "    .dataframe tbody tr th {\n",
       "        vertical-align: top;\n",
       "    }\n",
       "\n",
       "    .dataframe thead th {\n",
       "        text-align: right;\n",
       "    }\n",
       "</style>\n",
       "<table border=\"1\" class=\"dataframe\">\n",
       "  <thead>\n",
       "    <tr style=\"text-align: right;\">\n",
       "      <th></th>\n",
       "      <th>이름</th>\n",
       "      <th>주요경력</th>\n",
       "      <th>출생</th>\n",
       "      <th>사망</th>\n",
       "      <th>분기</th>\n",
       "      <th>생존일수</th>\n",
       "      <th>생존기간</th>\n",
       "      <th>출생요일</th>\n",
       "      <th>출생월</th>\n",
       "    </tr>\n",
       "    <tr>\n",
       "      <th>출생</th>\n",
       "      <th></th>\n",
       "      <th></th>\n",
       "      <th></th>\n",
       "      <th></th>\n",
       "      <th></th>\n",
       "      <th></th>\n",
       "      <th></th>\n",
       "      <th></th>\n",
       "      <th></th>\n",
       "    </tr>\n",
       "  </thead>\n",
       "  <tbody>\n",
       "    <tr>\n",
       "      <th>1955-02-24</th>\n",
       "      <td>스티브잡스</td>\n",
       "      <td>CEO</td>\n",
       "      <td>1955-02-24</td>\n",
       "      <td>2011-10-05</td>\n",
       "      <td>1</td>\n",
       "      <td>20677 days</td>\n",
       "      <td>56</td>\n",
       "      <td>Thu</td>\n",
       "      <td>Feb</td>\n",
       "    </tr>\n",
       "  </tbody>\n",
       "</table>\n",
       "</div>"
      ],
      "text/plain": [
       "               이름 주요경력         출생         사망  분기       생존일수  생존기간 출생요일  출생월\n",
       "출생                                                                         \n",
       "1955-02-24  스티브잡스  CEO 1955-02-24 2011-10-05   1 20677 days    56  Thu  Feb"
      ]
     },
     "execution_count": 21,
     "metadata": {},
     "output_type": "execute_result"
    }
   ],
   "source": [
    "# 1955년 2월 출생한 데이터 추출하기\n",
    "df.loc['1955-02']\n"
   ]
  }
 ],
 "metadata": {
  "kernelspec": {
   "display_name": "Python 3 (ipykernel)",
   "language": "python",
   "name": "python3"
  },
  "language_info": {
   "codemirror_mode": {
    "name": "ipython",
    "version": 3
   },
   "file_extension": ".py",
   "mimetype": "text/x-python",
   "name": "python",
   "nbconvert_exporter": "python",
   "pygments_lexer": "ipython3",
   "version": "3.9.7"
  },
  "toc": {
   "base_numbering": 1,
   "nav_menu": {},
   "number_sections": true,
   "sideBar": true,
   "skip_h1_title": false,
   "title_cell": "Table of Contents",
   "title_sidebar": "Contents",
   "toc_cell": false,
   "toc_position": {
    "height": "calc(100% - 180px)",
    "left": "10px",
    "top": "150px",
    "width": "333px"
   },
   "toc_section_display": true,
   "toc_window_display": true
  }
 },
 "nbformat": 4,
 "nbformat_minor": 5
}
