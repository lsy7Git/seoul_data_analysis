{
 "cells": [
  {
   "cell_type": "markdown",
   "id": "a7b8251a",
   "metadata": {},
   "source": [
    "# 영어단어장 만들기\n",
    "\n",
    "엔터를 입력할 때까지 영어단어,뜻을 입력받아 단어장을 만들고, 입력이 끝나면 단어 테스트를 실시하는 프로그램을 만들어봅시다.<br>\n",
    "1) 단어장을 만듭니다.<br>\n",
    "2) 단어테스트를 실시하고 맞은 갯수를 계산합니다.<br>\n",
    "3) 테스트가 끝나면 맞은갯수/전체단어수/점수 형태로 결과를 출력합니다<br>"
   ]
  },
  {
   "cell_type": "markdown",
   "id": "e6271670",
   "metadata": {},
   "source": [
    "## 단어장 만들기\n",
    "엔터('')를 입력할 때까지 영어단어,뜻을 입력받아 딕셔너리에 저장"
   ]
  },
  {
   "cell_type": "code",
   "execution_count": 1,
   "id": "348305f1",
   "metadata": {},
   "outputs": [
    {
     "name": "stdout",
     "output_type": "stream",
     "text": [
      "영어단어,뜻:apple,사과\n"
     ]
    }
   ],
   "source": [
    "input_word = input('영어단어,뜻:')"
   ]
  },
  {
   "cell_type": "code",
   "execution_count": null,
   "id": "2e1f7caf",
   "metadata": {},
   "outputs": [],
   "source": [
    "dict_word = {}\n",
    "\n",
    "eng = input_word.split(',')[0]\n",
    "kor = input_word.split(',')[1]\n",
    "print(eng,kor)\n",
    "dict_word[eng] = kor\n",
    "dict_word"
   ]
  },
  {
   "cell_type": "code",
   "execution_count": 9,
   "id": "bb732dee",
   "metadata": {},
   "outputs": [
    {
     "name": "stdout",
     "output_type": "stream",
     "text": [
      "영어단어,뜻:apple,사과\n",
      "영어단어,뜻:banana,바나나\n",
      "영어단어,뜻:grapes,포도\n",
      "영어단어,뜻:\n"
     ]
    },
    {
     "data": {
      "text/plain": [
       "{'apple': '사과', 'banana': '바나나', 'grapes': '포도'}"
      ]
     },
     "execution_count": 9,
     "metadata": {},
     "output_type": "execute_result"
    }
   ],
   "source": [
    "dict_word = {}\n",
    "while True:\n",
    "    input_word = input('영어단어,뜻:')\n",
    "    if input_word == '':\n",
    "        break\n",
    "    eng = input_word.split(',')[0]\n",
    "    kor = input_word.split(',')[1]\n",
    "    dict_word[eng] = kor\n",
    "dict_word\n"
   ]
  },
  {
   "cell_type": "markdown",
   "id": "a9581363",
   "metadata": {},
   "source": [
    "## 단어테스트\n",
    "단어장의 단어들을 모두 테스트<br>\n",
    "맞은 갯수는 별도로 카운트"
   ]
  },
  {
   "cell_type": "code",
   "execution_count": 10,
   "id": "61604586",
   "metadata": {
    "scrolled": false
   },
   "outputs": [
    {
     "name": "stdout",
     "output_type": "stream",
     "text": [
      "apple사과\n",
      "o\n",
      "banana수박\n",
      "x\n",
      "grapes포도\n",
      "o\n"
     ]
    }
   ],
   "source": [
    "cnt = 0\n",
    "for eng, kor in dict_word.items():\n",
    "    answer = input(eng)\n",
    "    if answer == kor:\n",
    "        print('o')\n",
    "        cnt += 1\n",
    "    else:\n",
    "        print('x')"
   ]
  },
  {
   "cell_type": "code",
   "execution_count": 11,
   "id": "eafe86b6",
   "metadata": {},
   "outputs": [
    {
     "data": {
      "text/plain": [
       "2"
      ]
     },
     "execution_count": 11,
     "metadata": {},
     "output_type": "execute_result"
    }
   ],
   "source": [
    "cnt"
   ]
  },
  {
   "cell_type": "markdown",
   "id": "94432d9b",
   "metadata": {},
   "source": [
    "## 테스트 결과 출력\n",
    "맞은갯수/전체문제수/점수 출력"
   ]
  },
  {
   "cell_type": "code",
   "execution_count": 15,
   "id": "8b692b03",
   "metadata": {
    "scrolled": true
   },
   "outputs": [
    {
     "name": "stdout",
     "output_type": "stream",
     "text": [
      "맞은갯수: 2\n",
      "전체문제수: 3\n",
      "점수: 66.7\n"
     ]
    }
   ],
   "source": [
    "print('맞은갯수:', cnt)\n",
    "print('전체문제수:', len(dict_word))\n",
    "print('점수:', round(cnt/len(dict_word)*100,1))"
   ]
  }
 ],
 "metadata": {
  "kernelspec": {
   "display_name": "Python 3 (ipykernel)",
   "language": "python",
   "name": "python3"
  },
  "language_info": {
   "codemirror_mode": {
    "name": "ipython",
    "version": 3
   },
   "file_extension": ".py",
   "mimetype": "text/x-python",
   "name": "python",
   "nbconvert_exporter": "python",
   "pygments_lexer": "ipython3",
   "version": "3.9.7"
  },
  "toc": {
   "base_numbering": 1,
   "nav_menu": {},
   "number_sections": true,
   "sideBar": true,
   "skip_h1_title": false,
   "title_cell": "Table of Contents",
   "title_sidebar": "Contents",
   "toc_cell": false,
   "toc_position": {},
   "toc_section_display": true,
   "toc_window_display": false
  }
 },
 "nbformat": 4,
 "nbformat_minor": 5
}
