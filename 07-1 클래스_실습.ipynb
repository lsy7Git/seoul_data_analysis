{
 "cells": [
  {
   "cell_type": "markdown",
   "id": "9c9b9802",
   "metadata": {},
   "source": [
    "# 자동차 클래스와 객체\n",
    "* 3가지 속성과 3가지 기능이 있는 자동차 객체를 찍어내기 위한 틀을 만든다.\n",
    "* 속성 : brand, model, color     \n",
    "* 기능 : turn_on, turn_off, drive"
   ]
  },
  {
   "cell_type": "markdown",
   "id": "be6ddb48",
   "metadata": {},
   "source": [
    "## 자동차클래스 만들기"
   ]
  },
  {
   "cell_type": "code",
   "execution_count": 1,
   "id": "458ba65c",
   "metadata": {},
   "outputs": [],
   "source": [
    "class Car:\n",
    "    def __init__(self, b, m, c):\n",
    "        self.brand = b\n",
    "        self.model = m\n",
    "        self.color = c\n",
    "        \n",
    "        print(self.brand, self.model, self.color, '출고')\n",
    "        \n",
    "    def turn_on(self):\n",
    "        print(self.brand, '시동을 겁니다.')\n",
    "        \n",
    "    def turn_off(self):\n",
    "        print(self.brand, '시동을 끕니다.')\n",
    "        \n",
    "    def drive(self):\n",
    "        print(self.brand, '주행중입니다.')\n",
    "        \n"
   ]
  },
  {
   "cell_type": "markdown",
   "id": "72d2f724",
   "metadata": {},
   "source": [
    "## 객체 생성하기\n",
    "* 객체명 = 클래스명(매개변수1,매개변수2,...)"
   ]
  },
  {
   "cell_type": "code",
   "execution_count": 4,
   "id": "5ea7c98d",
   "metadata": {},
   "outputs": [
    {
     "name": "stdout",
     "output_type": "stream",
     "text": [
      "현대자동차 소나타 흰색 출고\n",
      "르노삼성 SM7 검은색 출고\n"
     ]
    }
   ],
   "source": [
    "car1 = Car('현대자동차', '소나타', '흰색')\n",
    "car2 = Car('르노삼성', 'SM7', '검은색')"
   ]
  },
  {
   "cell_type": "markdown",
   "id": "df6a6b9a",
   "metadata": {},
   "source": [
    "## 메소드 호출하기\n",
    "* 객체명.메소드명(매개변수1,매개변수2,...)"
   ]
  },
  {
   "cell_type": "code",
   "execution_count": 8,
   "id": "5e6e1943",
   "metadata": {},
   "outputs": [
    {
     "name": "stdout",
     "output_type": "stream",
     "text": [
      "현대자동차 시동을 겁니다.\n",
      "현대자동차 시동을 끕니다.\n",
      "현대자동차 주행중입니다.\n",
      "르노삼성 시동을 겁니다.\n",
      "르노삼성 시동을 끕니다.\n",
      "르노삼성 주행중입니다.\n"
     ]
    }
   ],
   "source": [
    "car1.turn_on()\n",
    "car1.turn_off()\n",
    "car1.drive()\n",
    "\n",
    "car2.turn_on()\n",
    "car2.turn_off()\n",
    "car2.drive()"
   ]
  },
  {
   "cell_type": "markdown",
   "id": "5e5523ec",
   "metadata": {},
   "source": [
    "# 객체의 메소드 목록 조회\n",
    "* dir(객체)"
   ]
  },
  {
   "cell_type": "code",
   "execution_count": 9,
   "id": "f844e27e",
   "metadata": {},
   "outputs": [
    {
     "data": {
      "text/plain": [
       "['__add__',\n",
       " '__class__',\n",
       " '__class_getitem__',\n",
       " '__contains__',\n",
       " '__delattr__',\n",
       " '__delitem__',\n",
       " '__dir__',\n",
       " '__doc__',\n",
       " '__eq__',\n",
       " '__format__',\n",
       " '__ge__',\n",
       " '__getattribute__',\n",
       " '__getitem__',\n",
       " '__gt__',\n",
       " '__hash__',\n",
       " '__iadd__',\n",
       " '__imul__',\n",
       " '__init__',\n",
       " '__init_subclass__',\n",
       " '__iter__',\n",
       " '__le__',\n",
       " '__len__',\n",
       " '__lt__',\n",
       " '__mul__',\n",
       " '__ne__',\n",
       " '__new__',\n",
       " '__reduce__',\n",
       " '__reduce_ex__',\n",
       " '__repr__',\n",
       " '__reversed__',\n",
       " '__rmul__',\n",
       " '__setattr__',\n",
       " '__setitem__',\n",
       " '__sizeof__',\n",
       " '__str__',\n",
       " '__subclasshook__',\n",
       " 'append',\n",
       " 'clear',\n",
       " 'copy',\n",
       " 'count',\n",
       " 'extend',\n",
       " 'index',\n",
       " 'insert',\n",
       " 'pop',\n",
       " 'remove',\n",
       " 'reverse',\n",
       " 'sort']"
      ]
     },
     "execution_count": 9,
     "metadata": {},
     "output_type": "execute_result"
    }
   ],
   "source": [
    "dir(list)"
   ]
  },
  {
   "cell_type": "markdown",
   "id": "ddfe1c17",
   "metadata": {},
   "source": [
    "# 함수, 메소드 사용법\n",
    "* help(함수명)"
   ]
  },
  {
   "cell_type": "code",
   "execution_count": 10,
   "id": "6e61638a",
   "metadata": {},
   "outputs": [
    {
     "name": "stdout",
     "output_type": "stream",
     "text": [
      "Help on built-in function append:\n",
      "\n",
      "append(object, /) method of builtins.list instance\n",
      "    Append object to the end of the list.\n",
      "\n"
     ]
    }
   ],
   "source": [
    "a = [1,2,3]\n",
    "help(a.append)"
   ]
  },
  {
   "cell_type": "code",
   "execution_count": 11,
   "id": "b84972f2",
   "metadata": {
    "scrolled": true
   },
   "outputs": [
    {
     "name": "stdout",
     "output_type": "stream",
     "text": [
      "Help on built-in function print in module builtins:\n",
      "\n",
      "print(...)\n",
      "    print(value, ..., sep=' ', end='\\n', file=sys.stdout, flush=False)\n",
      "    \n",
      "    Prints the values to a stream, or to sys.stdout by default.\n",
      "    Optional keyword arguments:\n",
      "    file:  a file-like object (stream); defaults to the current sys.stdout.\n",
      "    sep:   string inserted between values, default a space.\n",
      "    end:   string appended after the last value, default a newline.\n",
      "    flush: whether to forcibly flush the stream.\n",
      "\n"
     ]
    }
   ],
   "source": [
    "help(print)"
   ]
  }
 ],
 "metadata": {
  "kernelspec": {
   "display_name": "Python 3 (ipykernel)",
   "language": "python",
   "name": "python3"
  },
  "language_info": {
   "codemirror_mode": {
    "name": "ipython",
    "version": 3
   },
   "file_extension": ".py",
   "mimetype": "text/x-python",
   "name": "python",
   "nbconvert_exporter": "python",
   "pygments_lexer": "ipython3",
   "version": "3.9.7"
  },
  "toc": {
   "base_numbering": 1,
   "nav_menu": {},
   "number_sections": true,
   "sideBar": true,
   "skip_h1_title": false,
   "title_cell": "Table of Contents",
   "title_sidebar": "Contents",
   "toc_cell": false,
   "toc_position": {
    "height": "calc(100% - 180px)",
    "left": "10px",
    "top": "150px",
    "width": "245.76px"
   },
   "toc_section_display": true,
   "toc_window_display": true
  }
 },
 "nbformat": 4,
 "nbformat_minor": 5
}
