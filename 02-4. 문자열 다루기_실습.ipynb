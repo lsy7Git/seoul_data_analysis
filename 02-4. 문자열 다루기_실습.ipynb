{
 "cells": [
  {
   "cell_type": "markdown",
   "id": "c5c857cd",
   "metadata": {},
   "source": [
    "# 문자열 인덱싱"
   ]
  },
  {
   "cell_type": "markdown",
   "id": "02781df8",
   "metadata": {},
   "source": [
    "* 양수 인덱스 사용하기"
   ]
  },
  {
   "cell_type": "code",
   "execution_count": 3,
   "id": "16e5fde3",
   "metadata": {},
   "outputs": [
    {
     "name": "stdout",
     "output_type": "stream",
     "text": [
      "H\n",
      "W\n",
      "d\n"
     ]
    }
   ],
   "source": [
    "a = 'Hello World'\n",
    "\n",
    "# 'H' 출력하기\n",
    "print(a[0])\n",
    "\n",
    "# 'W' 출력하기\n",
    "print(a[6])\n",
    "\n",
    "# 'd' 출력하기\n",
    "print(a[10])"
   ]
  },
  {
   "cell_type": "markdown",
   "id": "560906d8",
   "metadata": {},
   "source": [
    "* 음수 인덱스 사용하기"
   ]
  },
  {
   "cell_type": "code",
   "execution_count": 6,
   "id": "94c6cdb7",
   "metadata": {
    "scrolled": true
   },
   "outputs": [
    {
     "name": "stdout",
     "output_type": "stream",
     "text": [
      "H\n",
      "W\n",
      "d\n"
     ]
    }
   ],
   "source": [
    "a = 'Hello World'\n",
    "\n",
    "# 'H' 출력하기\n",
    "print(a[-11])\n",
    "\n",
    "# 'W' 출력하기\n",
    "print(a[-5])\n",
    "\n",
    "# 'd' 출력하기\n",
    "print(a[-1])"
   ]
  },
  {
   "cell_type": "markdown",
   "id": "304bb09f",
   "metadata": {},
   "source": [
    "* 범위 밖의 인덱스를 사용하면?"
   ]
  },
  {
   "cell_type": "code",
   "execution_count": 7,
   "id": "eb1c23b8",
   "metadata": {
    "scrolled": true
   },
   "outputs": [
    {
     "ename": "IndexError",
     "evalue": "string index out of range",
     "output_type": "error",
     "traceback": [
      "\u001b[1;31m---------------------------------------------------------------------------\u001b[0m",
      "\u001b[1;31mIndexError\u001b[0m                                Traceback (most recent call last)",
      "\u001b[1;32m~\\AppData\\Local\\Temp/ipykernel_10500/3685497297.py\u001b[0m in \u001b[0;36m<module>\u001b[1;34m\u001b[0m\n\u001b[0;32m      1\u001b[0m \u001b[0ma\u001b[0m \u001b[1;33m=\u001b[0m \u001b[1;34m'Hello World'\u001b[0m\u001b[1;33m\u001b[0m\u001b[1;33m\u001b[0m\u001b[0m\n\u001b[0;32m      2\u001b[0m \u001b[1;33m\u001b[0m\u001b[0m\n\u001b[1;32m----> 3\u001b[1;33m \u001b[0mprint\u001b[0m\u001b[1;33m(\u001b[0m\u001b[0ma\u001b[0m\u001b[1;33m[\u001b[0m\u001b[1;36m11\u001b[0m\u001b[1;33m]\u001b[0m\u001b[1;33m)\u001b[0m\u001b[1;33m\u001b[0m\u001b[1;33m\u001b[0m\u001b[0m\n\u001b[0m",
      "\u001b[1;31mIndexError\u001b[0m: string index out of range"
     ]
    }
   ],
   "source": [
    "a = 'Hello World'\n",
    "print(a[11])"
   ]
  },
  {
   "cell_type": "code",
   "execution_count": null,
   "id": "859ae4b2",
   "metadata": {
    "scrolled": true
   },
   "outputs": [],
   "source": [
    "a = 'Hello World'"
   ]
  },
  {
   "cell_type": "markdown",
   "id": "a1d6d6c0",
   "metadata": {},
   "source": [
    "# 문자열 슬라이싱"
   ]
  },
  {
   "cell_type": "markdown",
   "id": "d65691c1",
   "metadata": {},
   "source": [
    "* 양수 인덱스로 슬라이싱"
   ]
  },
  {
   "cell_type": "code",
   "execution_count": 9,
   "id": "9922cf8e",
   "metadata": {
    "scrolled": false
   },
   "outputs": [
    {
     "name": "stdout",
     "output_type": "stream",
     "text": [
      "Hello\n",
      "World\n"
     ]
    }
   ],
   "source": [
    "a = 'Hello World'\n",
    "# 'Hello' 출력하기\n",
    "print(a[0:5])\n",
    "\n",
    "# 'World' 출력하기\n",
    "print(a[6:11])"
   ]
  },
  {
   "cell_type": "markdown",
   "id": "278d875f",
   "metadata": {},
   "source": [
    "* 음수 인덱스로 슬라이싱"
   ]
  },
  {
   "cell_type": "code",
   "execution_count": 11,
   "id": "88e37864",
   "metadata": {
    "scrolled": false
   },
   "outputs": [
    {
     "name": "stdout",
     "output_type": "stream",
     "text": [
      "Hello\n",
      "World\n"
     ]
    }
   ],
   "source": [
    "a = 'Hello World'\n",
    "\n",
    "# 'Hello' 출력하기\n",
    "print(a[-11:-6])\n",
    "\n",
    "# 'World' 출력하기\n",
    "print(a[-5:])"
   ]
  },
  {
   "cell_type": "markdown",
   "id": "e0eac8e1",
   "metadata": {},
   "source": [
    "* 첫번째와 마지막 인덱스는 생략 가능"
   ]
  },
  {
   "cell_type": "code",
   "execution_count": 14,
   "id": "bff053ae",
   "metadata": {},
   "outputs": [
    {
     "name": "stdout",
     "output_type": "stream",
     "text": [
      "Hello\n",
      "World\n",
      "Hello World\n"
     ]
    }
   ],
   "source": [
    "a = 'Hello World'\n",
    "\n",
    "# 'Hello'\n",
    "print(a[:5])\n",
    "\n",
    "# 'World'\n",
    "print(a[6:])\n",
    "\n",
    "# 'Hello World'\n",
    "print(a[:])"
   ]
  },
  {
   "cell_type": "markdown",
   "id": "8aa72b29",
   "metadata": {},
   "source": [
    "* 한문자씩 건너뛰어 출력하기 "
   ]
  },
  {
   "cell_type": "code",
   "execution_count": 15,
   "id": "ce61d69d",
   "metadata": {
    "scrolled": true
   },
   "outputs": [
    {
     "name": "stdout",
     "output_type": "stream",
     "text": [
      "HloWrd\n"
     ]
    }
   ],
   "source": [
    "a = 'Hello World'\n",
    "print(a[::2])"
   ]
  },
  {
   "cell_type": "markdown",
   "id": "9a42c201",
   "metadata": {},
   "source": [
    "* 역순으로 출력하기     \n",
    ":간격을 마이너스(-)로 하면 역순으로 출력된다."
   ]
  },
  {
   "cell_type": "code",
   "execution_count": 16,
   "id": "38c576cd",
   "metadata": {
    "scrolled": true
   },
   "outputs": [
    {
     "name": "stdout",
     "output_type": "stream",
     "text": [
      "dlroW olleH\n"
     ]
    }
   ],
   "source": [
    "a = 'Hello World'\n",
    "print(a[::-1])"
   ]
  },
  {
   "cell_type": "markdown",
   "id": "c2004a57",
   "metadata": {},
   "source": [
    "# 문자열 함수"
   ]
  },
  {
   "cell_type": "markdown",
   "id": "1d78b281",
   "metadata": {},
   "source": [
    "## 문자열 교체하기\n",
    "* 문자열.replace(찾을문자열, 교체할문자열)"
   ]
  },
  {
   "cell_type": "code",
   "execution_count": 17,
   "id": "e8d8194a",
   "metadata": {
    "scrolled": true
   },
   "outputs": [
    {
     "data": {
      "text/plain": [
       "'나는 딸기우유 좋아. 딸기우유 최고'"
      ]
     },
     "execution_count": 17,
     "metadata": {},
     "output_type": "execute_result"
    }
   ],
   "source": [
    "a = '나는 초코우유 좋아. 초코우유 최고'\n",
    "\n",
    "# '초코'-->'딸기'로 교체\n",
    "a.replace('초코', '딸기')"
   ]
  },
  {
   "cell_type": "markdown",
   "id": "f5e2bdd9",
   "metadata": {},
   "source": [
    "## 문자의 위치 찾기\n",
    "* 문자열.find(문자)"
   ]
  },
  {
   "cell_type": "code",
   "execution_count": 20,
   "id": "f3904d4c",
   "metadata": {
    "scrolled": true
   },
   "outputs": [
    {
     "data": {
      "text/plain": [
       "2"
      ]
     },
     "execution_count": 20,
     "metadata": {},
     "output_type": "execute_result"
    }
   ],
   "source": [
    "a = 'Hello, Python!!!'\n",
    "\n",
    "# 'e'의 위치 찾기\n",
    "a.find('e')\n",
    "\n",
    "# 'l'의 위치 찾기\n",
    "a.find('l') #처음 만나는 문자열의 위치를 알려준다."
   ]
  },
  {
   "cell_type": "markdown",
   "id": "17ac421b",
   "metadata": {},
   "source": [
    "## 소문자로 변환하기\n",
    "*문자열.lower()"
   ]
  },
  {
   "cell_type": "code",
   "execution_count": 21,
   "id": "8a5e9eaf",
   "metadata": {
    "scrolled": true
   },
   "outputs": [
    {
     "data": {
      "text/plain": [
       "'hello, python!!!'"
      ]
     },
     "execution_count": 21,
     "metadata": {},
     "output_type": "execute_result"
    }
   ],
   "source": [
    "a = 'Hello, Python!!!'\n",
    "a.lower()"
   ]
  },
  {
   "cell_type": "markdown",
   "id": "4fe141b8",
   "metadata": {},
   "source": [
    "## 대문자로 변환하기\n",
    "*문자열.upper()"
   ]
  },
  {
   "cell_type": "code",
   "execution_count": 22,
   "id": "06fcd426",
   "metadata": {},
   "outputs": [
    {
     "data": {
      "text/plain": [
       "'HELLO, PYTHON!!!'"
      ]
     },
     "execution_count": 22,
     "metadata": {},
     "output_type": "execute_result"
    }
   ],
   "source": [
    "a = 'Hello, Python!!!'\n",
    "a.upper()"
   ]
  },
  {
   "cell_type": "markdown",
   "id": "3c72721f",
   "metadata": {},
   "source": [
    "## 문자열 나누기\n",
    "*문자열.split(구분자)"
   ]
  },
  {
   "cell_type": "code",
   "execution_count": 23,
   "id": "3cf7e446",
   "metadata": {},
   "outputs": [
    {
     "data": {
      "text/plain": [
       "['010', '123', '4567']"
      ]
     },
     "execution_count": 23,
     "metadata": {},
     "output_type": "execute_result"
    }
   ],
   "source": [
    "phone = '010-123-4567'\n",
    "phone.split('-')"
   ]
  },
  {
   "cell_type": "code",
   "execution_count": 24,
   "id": "56a8747f",
   "metadata": {},
   "outputs": [
    {
     "data": {
      "text/plain": [
       "['abc', 'naver.com']"
      ]
     },
     "execution_count": 24,
     "metadata": {},
     "output_type": "execute_result"
    }
   ],
   "source": [
    "email = 'abc@naver.com'\n",
    "email.split('@')"
   ]
  },
  {
   "cell_type": "markdown",
   "id": "a521362b",
   "metadata": {},
   "source": [
    "# 연습문제\n",
    "* 사용자의 영문 이름을 입력받아 성과 이름 순서를 바꾸어서 출력하는 프로그램을 작성하세요.     \n",
    "   성과 이름은 공백으로 구분합니다."
   ]
  },
  {
   "cell_type": "code",
   "execution_count": 26,
   "id": "2bdc9ec3",
   "metadata": {},
   "outputs": [
    {
     "name": "stdout",
     "output_type": "stream",
     "text": [
      "영문 이름을 입력하세요.(성과 이름은 공백으로 구분): Py Thon\n",
      "2\n",
      "Py Thon\n"
     ]
    }
   ],
   "source": [
    "# 사용자의 영문이름 입력받기 (성과 이름은 공백으로 구분)\n",
    "full_name = input('영문 이름을 입력하세요.(성과 이름은 공백으로 구분): ')\n",
    "\n",
    "# 공백의 위치 찾기\n",
    "space = full_name.find(' ')\n",
    "print(space)\n",
    "\n",
    "# 성, 이름을 슬라이싱하여 각각 변수에 담기\n",
    "first_name = full_name[:space]\n",
    "last_name = full_name[space+1:]\n",
    "\n",
    "print(first_name, last_name)\n",
    "\n",
    "# 성, 이름의 순서를 바꾸어 출력하기\n",
    "print(last_name, first_name)"
   ]
  }
 ],
 "metadata": {
  "kernelspec": {
   "display_name": "Python 3 (ipykernel)",
   "language": "python",
   "name": "python3"
  },
  "language_info": {
   "codemirror_mode": {
    "name": "ipython",
    "version": 3
   },
   "file_extension": ".py",
   "mimetype": "text/x-python",
   "name": "python",
   "nbconvert_exporter": "python",
   "pygments_lexer": "ipython3",
   "version": "3.9.7"
  },
  "toc": {
   "base_numbering": 1,
   "nav_menu": {},
   "number_sections": true,
   "sideBar": true,
   "skip_h1_title": false,
   "title_cell": "Table of Contents",
   "title_sidebar": "Contents",
   "toc_cell": false,
   "toc_position": {},
   "toc_section_display": true,
   "toc_window_display": true
  }
 },
 "nbformat": 4,
 "nbformat_minor": 5
}
